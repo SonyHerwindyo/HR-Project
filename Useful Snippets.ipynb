{
 "cells": [
  {
   "cell_type": "code",
   "execution_count": null,
   "id": "05e638fc",
   "metadata": {},
   "outputs": [],
   "source": [
    "Untuk mapping data range"
   ]
  },
  {
   "cell_type": "code",
   "execution_count": 1,
   "id": "2345425f",
   "metadata": {},
   "outputs": [],
   "source": [
    "experience_map = {\n",
    "    '<1'      :    '0-5',\n",
    "    '1'       :    '0-5', \n",
    "    '2'       :    '0-5', \n",
    "    '3'       :    '0-5', \n",
    "    '4'       :    '0-5', \n",
    "    '5'       :    '0-5',\n",
    "    '6'       :    '6-10',\n",
    "    '7'       :    '6-10',\n",
    "    '8'       :    '6-10', \n",
    "    '9'       :    '6-10', \n",
    "    '10'      :    '6-10', \n",
    "    '11'      :    '11-15',\n",
    "    '12'      :    '11-15',\n",
    "    '13'      :    '11-15', \n",
    "    '14'      :    '11-15', \n",
    "    '15'      :    '11-15', \n",
    "    '16'      :    '16-20',\n",
    "    '17'      :    '16-20',\n",
    "    '18'      :    '16-20',\n",
    "    '19'      :    '16-20', \n",
    "    '20'      :    '16-20', \n",
    "    '>20'     :    '>20'\n",
    "} "
   ]
  },
  {
   "cell_type": "code",
   "execution_count": null,
   "id": "d4b57276",
   "metadata": {},
   "outputs": [],
   "source": [
    "df2.loc[:,'experience'] = df2['experience'].map(experience_map)"
   ]
  }
 ],
 "metadata": {
  "kernelspec": {
   "display_name": "Python 3 (ipykernel)",
   "language": "python",
   "name": "python3"
  },
  "language_info": {
   "codemirror_mode": {
    "name": "ipython",
    "version": 3
   },
   "file_extension": ".py",
   "mimetype": "text/x-python",
   "name": "python",
   "nbconvert_exporter": "python",
   "pygments_lexer": "ipython3",
   "version": "3.9.7"
  }
 },
 "nbformat": 4,
 "nbformat_minor": 5
}
