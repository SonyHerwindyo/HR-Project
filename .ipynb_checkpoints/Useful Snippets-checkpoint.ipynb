{
 "cells": [
  {
   "cell_type": "code",
   "execution_count": null,
   "id": "05e638fc",
   "metadata": {},
   "outputs": [],
   "source": [
    "Untuk mapping data range"
   ]
  },
  {
   "cell_type": "code",
   "execution_count": 1,
   "id": "2345425f",
   "metadata": {},
   "outputs": [],
   "source": [
    "experience_map = {\n",
    "    '<1'      :    '0-5',\n",
    "    '1'       :    '0-5', \n",
    "    '2'       :    '0-5', \n",
    "    '3'       :    '0-5', \n",
    "    '4'       :    '0-5', \n",
    "    '5'       :    '0-5',\n",
    "    '6'       :    '6-10',\n",
    "    '7'       :    '6-10',\n",
    "    '8'       :    '6-10', \n",
    "    '9'       :    '6-10', \n",
    "    '10'      :    '6-10', \n",
    "    '11'      :    '11-15',\n",
    "    '12'      :    '11-15',\n",
    "    '13'      :    '11-15', \n",
    "    '14'      :    '11-15', \n",
    "    '15'      :    '11-15', \n",
    "    '16'      :    '16-20',\n",
    "    '17'      :    '16-20',\n",
    "    '18'      :    '16-20',\n",
    "    '19'      :    '16-20', \n",
    "    '20'      :    '16-20', \n",
    "    '>20'     :    '>20'\n",
    "} "
   ]
  },
  {
   "cell_type": "code",
   "execution_count": 1,
   "id": "d4b57276",
   "metadata": {},
   "outputs": [
    {
     "ename": "NameError",
     "evalue": "name 'df2' is not defined",
     "output_type": "error",
     "traceback": [
      "\u001b[1;31m---------------------------------------------------------------------------\u001b[0m",
      "\u001b[1;31mNameError\u001b[0m                                 Traceback (most recent call last)",
      "\u001b[1;32m~\\AppData\\Local\\Temp/ipykernel_7316/4228916215.py\u001b[0m in \u001b[0;36m<module>\u001b[1;34m\u001b[0m\n\u001b[1;32m----> 1\u001b[1;33m \u001b[0mdf2\u001b[0m\u001b[1;33m.\u001b[0m\u001b[0mloc\u001b[0m\u001b[1;33m[\u001b[0m\u001b[1;33m:\u001b[0m\u001b[1;33m,\u001b[0m\u001b[1;34m'experience'\u001b[0m\u001b[1;33m]\u001b[0m \u001b[1;33m=\u001b[0m \u001b[0mdf2\u001b[0m\u001b[1;33m[\u001b[0m\u001b[1;34m'experience'\u001b[0m\u001b[1;33m]\u001b[0m\u001b[1;33m.\u001b[0m\u001b[0mmap\u001b[0m\u001b[1;33m(\u001b[0m\u001b[0mexperience_map\u001b[0m\u001b[1;33m)\u001b[0m\u001b[1;33m\u001b[0m\u001b[1;33m\u001b[0m\u001b[0m\n\u001b[0m",
      "\u001b[1;31mNameError\u001b[0m: name 'df2' is not defined"
     ]
    }
   ],
   "source": [
    "df2.loc[:,'experience'] = df2['experience'].map(experience_map)"
   ]
  },
  {
   "cell_type": "markdown",
   "id": "2cff2625",
   "metadata": {},
   "source": [
    "## Replace missing value with mode"
   ]
  },
  {
   "cell_type": "code",
   "execution_count": null,
   "id": "0efc9c14",
   "metadata": {},
   "outputs": [],
   "source": [
    "for column in cat_columns:\n",
    "    if df[column].isnull().sum()>0:\n",
    "        df[column].replace(np.nan,df[column].mode()[0],inplace=True)\n"
   ]
  }
 ],
 "metadata": {
  "kernelspec": {
   "display_name": "Python 3 (ipykernel)",
   "language": "python",
   "name": "python3"
  },
  "language_info": {
   "codemirror_mode": {
    "name": "ipython",
    "version": 3
   },
   "file_extension": ".py",
   "mimetype": "text/x-python",
   "name": "python",
   "nbconvert_exporter": "python",
   "pygments_lexer": "ipython3",
   "version": "3.9.7"
  }
 },
 "nbformat": 4,
 "nbformat_minor": 5
}
